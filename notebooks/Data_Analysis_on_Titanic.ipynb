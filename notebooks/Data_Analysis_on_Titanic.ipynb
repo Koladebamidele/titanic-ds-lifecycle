{
 "cells": [
  {
   "cell_type": "markdown",
   "id": "bf1d9cd6-37cd-4f61-afac-e6a0064732d4",
   "metadata": {},
   "source": [
    "## Data Analysis on Titanic Dataset  \n",
    "1. Explores and understands the dataset.\n",
    "2. Performs Exploratory Data Analysis (EDA) using statistics, visualization (plots, histograms, scatter plots, heatmaps).\n",
    "3. Identifies patterns, correlations, distributions, missing values, and outliers.\n",
    "4. Summarizes the dataset to gain insights that will guide the next steps."
   ]
  },
  {
   "cell_type": "markdown",
   "id": "97274c02-b576-450b-a6a4-46ea7048895e",
   "metadata": {
    "jp-MarkdownHeadingCollapsed": true
   },
   "source": [
    "### Import libraries and Loading the dataset"
   ]
  },
  {
   "cell_type": "markdown",
   "id": "60ff336d-d986-4ff2-9778-5be4cd81e884",
   "metadata": {},
   "source": [
    "**Import Libraries**"
   ]
  },
  {
   "cell_type": "code",
   "execution_count": 1,
   "id": "7546bea4-7792-4986-a322-d9f3a7ea1e69",
   "metadata": {},
   "outputs": [],
   "source": [
    "# Import the required libraries\n",
    "import numpy as np #for numerical calculations\n",
    "import pandas as pd #for exploring the dataset\n",
    "import matplotlib.pyplot as plt #for visualization\n",
    "import seaborn as sns #for drawing attractive and informative statistical graphics"
   ]
  },
  {
   "cell_type": "markdown",
   "id": "4accf68f-867a-4323-bf49-afa4173f4012",
   "metadata": {},
   "source": [
    "**Load Dataset**"
   ]
  },
  {
   "cell_type": "code",
   "execution_count": 2,
   "id": "12307dd3-91b7-432f-8949-f0fddad4a74a",
   "metadata": {},
   "outputs": [
    {
     "name": "stdout",
     "output_type": "stream",
     "text": [
      "<class 'pandas.core.frame.DataFrame'>\n",
      "RangeIndex: 891 entries, 0 to 890\n",
      "Data columns (total 12 columns):\n",
      " #   Column       Non-Null Count  Dtype  \n",
      "---  ------       --------------  -----  \n",
      " 0   PassengerId  891 non-null    int64  \n",
      " 1   Survived     891 non-null    int64  \n",
      " 2   Pclass       891 non-null    int64  \n",
      " 3   Name         891 non-null    object \n",
      " 4   Sex          891 non-null    object \n",
      " 5   Age          714 non-null    float64\n",
      " 6   SibSp        891 non-null    int64  \n",
      " 7   Parch        891 non-null    int64  \n",
      " 8   Ticket       891 non-null    object \n",
      " 9   Fare         891 non-null    float64\n",
      " 10  Cabin        204 non-null    object \n",
      " 11  Embarked     889 non-null    object \n",
      "dtypes: float64(2), int64(5), object(5)\n",
      "memory usage: 83.7+ KB\n"
     ]
    }
   ],
   "source": [
    "#load the titanic csv file using pandas .read_csv()\n",
    "dataset = pd.read_csv(r\"C:\\Users\\KOLADE\\OneDrive\\Documents\\Practices\\Titanic\\data\\Titanic-Dataset.csv\")\n",
    "df = dataset.copy() #make a copy of the dataset so i won't tamper with the original dataset\n",
    "\n",
    "df.info() #load the data information"
   ]
  },
  {
   "cell_type": "markdown",
   "id": "2156ddfd-93ba-4913-958a-d1a1e5baaefb",
   "metadata": {},
   "source": [
    "from the data information, we have 891 rows and 12 columns, there are quantitative and qualitative features, some features have missing values."
   ]
  },
  {
   "cell_type": "code",
   "execution_count": 3,
   "id": "e3f2ac17-1622-4510-bf70-99c82fd56799",
   "metadata": {
    "scrolled": true
   },
   "outputs": [
    {
     "data": {
      "text/html": [
       "<div>\n",
       "<style scoped>\n",
       "    .dataframe tbody tr th:only-of-type {\n",
       "        vertical-align: middle;\n",
       "    }\n",
       "\n",
       "    .dataframe tbody tr th {\n",
       "        vertical-align: top;\n",
       "    }\n",
       "\n",
       "    .dataframe thead th {\n",
       "        text-align: right;\n",
       "    }\n",
       "</style>\n",
       "<table border=\"1\" class=\"dataframe\">\n",
       "  <thead>\n",
       "    <tr style=\"text-align: right;\">\n",
       "      <th></th>\n",
       "      <th>PassengerId</th>\n",
       "      <th>Survived</th>\n",
       "      <th>Pclass</th>\n",
       "      <th>Name</th>\n",
       "      <th>Sex</th>\n",
       "      <th>Age</th>\n",
       "      <th>SibSp</th>\n",
       "      <th>Parch</th>\n",
       "      <th>Ticket</th>\n",
       "      <th>Fare</th>\n",
       "      <th>Cabin</th>\n",
       "      <th>Embarked</th>\n",
       "    </tr>\n",
       "  </thead>\n",
       "  <tbody>\n",
       "    <tr>\n",
       "      <th>0</th>\n",
       "      <td>1</td>\n",
       "      <td>0</td>\n",
       "      <td>3</td>\n",
       "      <td>Braund, Mr. Owen Harris</td>\n",
       "      <td>male</td>\n",
       "      <td>22.0</td>\n",
       "      <td>1</td>\n",
       "      <td>0</td>\n",
       "      <td>A/5 21171</td>\n",
       "      <td>7.2500</td>\n",
       "      <td>NaN</td>\n",
       "      <td>S</td>\n",
       "    </tr>\n",
       "    <tr>\n",
       "      <th>1</th>\n",
       "      <td>2</td>\n",
       "      <td>1</td>\n",
       "      <td>1</td>\n",
       "      <td>Cumings, Mrs. John Bradley (Florence Briggs Th...</td>\n",
       "      <td>female</td>\n",
       "      <td>38.0</td>\n",
       "      <td>1</td>\n",
       "      <td>0</td>\n",
       "      <td>PC 17599</td>\n",
       "      <td>71.2833</td>\n",
       "      <td>C85</td>\n",
       "      <td>C</td>\n",
       "    </tr>\n",
       "    <tr>\n",
       "      <th>2</th>\n",
       "      <td>3</td>\n",
       "      <td>1</td>\n",
       "      <td>3</td>\n",
       "      <td>Heikkinen, Miss. Laina</td>\n",
       "      <td>female</td>\n",
       "      <td>26.0</td>\n",
       "      <td>0</td>\n",
       "      <td>0</td>\n",
       "      <td>STON/O2. 3101282</td>\n",
       "      <td>7.9250</td>\n",
       "      <td>NaN</td>\n",
       "      <td>S</td>\n",
       "    </tr>\n",
       "    <tr>\n",
       "      <th>3</th>\n",
       "      <td>4</td>\n",
       "      <td>1</td>\n",
       "      <td>1</td>\n",
       "      <td>Futrelle, Mrs. Jacques Heath (Lily May Peel)</td>\n",
       "      <td>female</td>\n",
       "      <td>35.0</td>\n",
       "      <td>1</td>\n",
       "      <td>0</td>\n",
       "      <td>113803</td>\n",
       "      <td>53.1000</td>\n",
       "      <td>C123</td>\n",
       "      <td>S</td>\n",
       "    </tr>\n",
       "    <tr>\n",
       "      <th>4</th>\n",
       "      <td>5</td>\n",
       "      <td>0</td>\n",
       "      <td>3</td>\n",
       "      <td>Allen, Mr. William Henry</td>\n",
       "      <td>male</td>\n",
       "      <td>35.0</td>\n",
       "      <td>0</td>\n",
       "      <td>0</td>\n",
       "      <td>373450</td>\n",
       "      <td>8.0500</td>\n",
       "      <td>NaN</td>\n",
       "      <td>S</td>\n",
       "    </tr>\n",
       "  </tbody>\n",
       "</table>\n",
       "</div>"
      ],
      "text/plain": [
       "   PassengerId  Survived  Pclass  \\\n",
       "0            1         0       3   \n",
       "1            2         1       1   \n",
       "2            3         1       3   \n",
       "3            4         1       1   \n",
       "4            5         0       3   \n",
       "\n",
       "                                                Name     Sex   Age  SibSp  \\\n",
       "0                            Braund, Mr. Owen Harris    male  22.0      1   \n",
       "1  Cumings, Mrs. John Bradley (Florence Briggs Th...  female  38.0      1   \n",
       "2                             Heikkinen, Miss. Laina  female  26.0      0   \n",
       "3       Futrelle, Mrs. Jacques Heath (Lily May Peel)  female  35.0      1   \n",
       "4                           Allen, Mr. William Henry    male  35.0      0   \n",
       "\n",
       "   Parch            Ticket     Fare Cabin Embarked  \n",
       "0      0         A/5 21171   7.2500   NaN        S  \n",
       "1      0          PC 17599  71.2833   C85        C  \n",
       "2      0  STON/O2. 3101282   7.9250   NaN        S  \n",
       "3      0            113803  53.1000  C123        S  \n",
       "4      0            373450   8.0500   NaN        S  "
      ]
     },
     "execution_count": 3,
     "metadata": {},
     "output_type": "execute_result"
    }
   ],
   "source": [
    "df.head()"
   ]
  },
  {
   "cell_type": "markdown",
   "id": "64d645b6-c881-4a96-8690-77ee321f67d7",
   "metadata": {
    "jp-MarkdownHeadingCollapsed": true
   },
   "source": [
    "### Exploratory Data Analysis (EDA)"
   ]
  },
  {
   "cell_type": "markdown",
   "id": "a62508ed-73c1-4852-ac57-136e046decce",
   "metadata": {},
   "source": [
    "**Duplicates data**"
   ]
  },
  {
   "cell_type": "code",
   "execution_count": 4,
   "id": "8ececf5a-bcac-486b-a183-5f9caeddb9c8",
   "metadata": {},
   "outputs": [
    {
     "name": "stdout",
     "output_type": "stream",
     "text": [
      "0\n"
     ]
    }
   ],
   "source": [
    "print(df.duplicated().sum())"
   ]
  },
  {
   "cell_type": "markdown",
   "id": "0bb3b172-9d90-423e-8a5a-08f9a4280fee",
   "metadata": {},
   "source": [
    "There are no duplicate data"
   ]
  },
  {
   "cell_type": "markdown",
   "id": "baf0cc16-c033-403b-a5c0-9be04ad6cd46",
   "metadata": {},
   "source": [
    "**Missing Values**"
   ]
  },
  {
   "cell_type": "code",
   "execution_count": 5,
   "id": "398bf392-7e17-439f-90dd-9035ce75efca",
   "metadata": {},
   "outputs": [
    {
     "name": "stdout",
     "output_type": "stream",
     "text": [
      "Columns with missing values: ['Age', 'Cabin', 'Embarked']\n"
     ]
    },
    {
     "data": {
      "text/plain": [
       "Age         0.198653\n",
       "Cabin       0.771044\n",
       "Embarked    0.002245\n",
       "dtype: float64"
      ]
     },
     "execution_count": 5,
     "metadata": {},
     "output_type": "execute_result"
    }
   ],
   "source": [
    "features_nan = [features for features in df.columns if df[features].isnull().sum() > 0]\n",
    "print(f\"Columns with missing values: {features_nan}\")\n",
    "\n",
    "df[features_nan].isnull().mean()"
   ]
  },
  {
   "cell_type": "markdown",
   "id": "27725b7f-20e3-4019-a75c-f3b3ea6a27f6",
   "metadata": {},
   "source": [
    "The 'Age', 'Cabin', and 'Embarked' columns has about 20%, 77% and 3% missing values respectively. "
   ]
  },
  {
   "cell_type": "markdown",
   "id": "aa77d1d9-f50f-4b04-a8e8-569446021e3b",
   "metadata": {},
   "source": [
    "**Numerical Features**"
   ]
  },
  {
   "cell_type": "code",
   "execution_count": 6,
   "id": "345936b0-0fbb-40b2-b886-0912d78e51fa",
   "metadata": {},
   "outputs": [
    {
     "name": "stdout",
     "output_type": "stream",
     "text": [
      "Numerical columns = ['PassengerId', 'Survived', 'Pclass', 'Age', 'SibSp', 'Parch', 'Fare']\n"
     ]
    },
    {
     "data": {
      "text/html": [
       "<div>\n",
       "<style scoped>\n",
       "    .dataframe tbody tr th:only-of-type {\n",
       "        vertical-align: middle;\n",
       "    }\n",
       "\n",
       "    .dataframe tbody tr th {\n",
       "        vertical-align: top;\n",
       "    }\n",
       "\n",
       "    .dataframe thead th {\n",
       "        text-align: right;\n",
       "    }\n",
       "</style>\n",
       "<table border=\"1\" class=\"dataframe\">\n",
       "  <thead>\n",
       "    <tr style=\"text-align: right;\">\n",
       "      <th></th>\n",
       "      <th>count</th>\n",
       "      <th>mean</th>\n",
       "      <th>std</th>\n",
       "      <th>min</th>\n",
       "      <th>25%</th>\n",
       "      <th>50%</th>\n",
       "      <th>75%</th>\n",
       "      <th>max</th>\n",
       "    </tr>\n",
       "  </thead>\n",
       "  <tbody>\n",
       "    <tr>\n",
       "      <th>PassengerId</th>\n",
       "      <td>891.0</td>\n",
       "      <td>446.000000</td>\n",
       "      <td>257.353842</td>\n",
       "      <td>1.00</td>\n",
       "      <td>223.5000</td>\n",
       "      <td>446.0000</td>\n",
       "      <td>668.5</td>\n",
       "      <td>891.0000</td>\n",
       "    </tr>\n",
       "    <tr>\n",
       "      <th>Survived</th>\n",
       "      <td>891.0</td>\n",
       "      <td>0.383838</td>\n",
       "      <td>0.486592</td>\n",
       "      <td>0.00</td>\n",
       "      <td>0.0000</td>\n",
       "      <td>0.0000</td>\n",
       "      <td>1.0</td>\n",
       "      <td>1.0000</td>\n",
       "    </tr>\n",
       "    <tr>\n",
       "      <th>Pclass</th>\n",
       "      <td>891.0</td>\n",
       "      <td>2.308642</td>\n",
       "      <td>0.836071</td>\n",
       "      <td>1.00</td>\n",
       "      <td>2.0000</td>\n",
       "      <td>3.0000</td>\n",
       "      <td>3.0</td>\n",
       "      <td>3.0000</td>\n",
       "    </tr>\n",
       "    <tr>\n",
       "      <th>Age</th>\n",
       "      <td>714.0</td>\n",
       "      <td>29.699118</td>\n",
       "      <td>14.526497</td>\n",
       "      <td>0.42</td>\n",
       "      <td>20.1250</td>\n",
       "      <td>28.0000</td>\n",
       "      <td>38.0</td>\n",
       "      <td>80.0000</td>\n",
       "    </tr>\n",
       "    <tr>\n",
       "      <th>SibSp</th>\n",
       "      <td>891.0</td>\n",
       "      <td>0.523008</td>\n",
       "      <td>1.102743</td>\n",
       "      <td>0.00</td>\n",
       "      <td>0.0000</td>\n",
       "      <td>0.0000</td>\n",
       "      <td>1.0</td>\n",
       "      <td>8.0000</td>\n",
       "    </tr>\n",
       "    <tr>\n",
       "      <th>Parch</th>\n",
       "      <td>891.0</td>\n",
       "      <td>0.381594</td>\n",
       "      <td>0.806057</td>\n",
       "      <td>0.00</td>\n",
       "      <td>0.0000</td>\n",
       "      <td>0.0000</td>\n",
       "      <td>0.0</td>\n",
       "      <td>6.0000</td>\n",
       "    </tr>\n",
       "    <tr>\n",
       "      <th>Fare</th>\n",
       "      <td>891.0</td>\n",
       "      <td>32.204208</td>\n",
       "      <td>49.693429</td>\n",
       "      <td>0.00</td>\n",
       "      <td>7.9104</td>\n",
       "      <td>14.4542</td>\n",
       "      <td>31.0</td>\n",
       "      <td>512.3292</td>\n",
       "    </tr>\n",
       "  </tbody>\n",
       "</table>\n",
       "</div>"
      ],
      "text/plain": [
       "             count        mean         std   min       25%       50%    75%  \\\n",
       "PassengerId  891.0  446.000000  257.353842  1.00  223.5000  446.0000  668.5   \n",
       "Survived     891.0    0.383838    0.486592  0.00    0.0000    0.0000    1.0   \n",
       "Pclass       891.0    2.308642    0.836071  1.00    2.0000    3.0000    3.0   \n",
       "Age          714.0   29.699118   14.526497  0.42   20.1250   28.0000   38.0   \n",
       "SibSp        891.0    0.523008    1.102743  0.00    0.0000    0.0000    1.0   \n",
       "Parch        891.0    0.381594    0.806057  0.00    0.0000    0.0000    0.0   \n",
       "Fare         891.0   32.204208   49.693429  0.00    7.9104   14.4542   31.0   \n",
       "\n",
       "                  max  \n",
       "PassengerId  891.0000  \n",
       "Survived       1.0000  \n",
       "Pclass         3.0000  \n",
       "Age           80.0000  \n",
       "SibSp          8.0000  \n",
       "Parch          6.0000  \n",
       "Fare         512.3292  "
      ]
     },
     "execution_count": 6,
     "metadata": {},
     "output_type": "execute_result"
    }
   ],
   "source": [
    "numerical = [features for features in df.columns if df[features].dtypes != \"O\"]\n",
    "print(f\"Numerical columns = {numerical}\")\n",
    "\n",
    "df[numerical].describe().T"
   ]
  },
  {
   "cell_type": "markdown",
   "id": "9385f2ca-cfcc-4dc2-a3fb-991a78e865ed",
   "metadata": {},
   "source": [
    "The PassengerId is just a unique identifier for each passenger and has no predictive value for survival. The Survival is the dependent variable with value 0 and 1 whether a passenger survived or not. And there are also discrete and continuous numerical columns which i will identify and explore respectively. "
   ]
  },
  {
   "cell_type": "markdown",
   "id": "399023d0-216c-4333-adaa-d794e7acb8b9",
   "metadata": {},
   "source": [
    "**Discrete Data**"
   ]
  },
  {
   "cell_type": "code",
   "execution_count": 7,
   "id": "65cea6a5-ee0d-4923-8b9f-898a63abc678",
   "metadata": {},
   "outputs": [
    {
     "name": "stdout",
     "output_type": "stream",
     "text": [
      "Discrete columns = ['Survived', 'Pclass', 'SibSp', 'Parch']\n",
      "\n"
     ]
    },
    {
     "data": {
      "image/png": "[encoded data removed]",
      "text/plain": [
       "<Figure size 400x300 with 1 Axes>"
      ]
     },
     "metadata": {},
     "output_type": "display_data"
    },
    {
     "data": {
      "image/png": "[encoded data removed]",
      "text/plain": [
       "<Figure size 400x300 with 1 Axes>"
      ]
     },
     "metadata": {},
     "output_type": "display_data"
    },
    {
     "data": {
      "image/png": "[encoded data removed]",
      "text/plain": [
       "<Figure size 400x300 with 1 Axes>"
      ]
     },
     "metadata": {},
     "output_type": "display_data"
    },
    {
     "data": {
      "image/png": "[encoded data removed]",
      "text/plain": [
       "<Figure size 400x300 with 1 Axes>"
      ]
     },
     "metadata": {},
     "output_type": "display_data"
    }
   ],
   "source": [
    "discrete = [features for features in df.columns if features in numerical and df[features].nunique() <= 10 ]\n",
    "print(f\"Discrete columns = {discrete}\\n\")\n",
    "\n",
    "for feature in discrete:\n",
    "    plt.figure(figsize=(4,3))   # new figure for each plot\n",
    "    sns.countplot(x=df[feature])\n",
    "    plt.title(f\"Countplot of {feature}\")\n",
    "    plt.show()"
   ]
  },
  {
   "cell_type": "code",
   "execution_count": 8,
   "id": "8dfeff04-a0de-4b0d-b694-d9019f90c5b6",
   "metadata": {
    "scrolled": true
   },
   "outputs": [
    {
     "data": {
      "image/png": "[encoded data removed]",
      "text/plain": [
       "<Figure size 500x300 with 1 Axes>"
      ]
     },
     "metadata": {},
     "output_type": "display_data"
    },
    {
     "data": {
      "image/png": "[encoded data removed]",
      "text/plain": [
       "<Figure size 500x300 with 1 Axes>"
      ]
     },
     "metadata": {},
     "output_type": "display_data"
    },
    {
     "data": {
      "image/png": "[encoded data removed]",
      "text/plain": [
       "<Figure size 500x300 with 1 Axes>"
      ]
     },
     "metadata": {},
     "output_type": "display_data"
    }
   ],
   "source": [
    "for feature in discrete:\n",
    "    if feature != 'Survived':\n",
    "        plt.figure(figsize=(5,3))   # new figure for each plot\n",
    "        sns.countplot(hue=df['Survived'], x=df[feature])\n",
    "        plt.title(f\"Relationship between {feature} and Survived\")\n",
    "        plt.show()"
   ]
  },
  {
   "cell_type": "markdown",
   "id": "45f47573-7640-40a0-9877-08e44aebf096",
   "metadata": {},
   "source": [
    "**Continuous Data**"
   ]
  },
  {
   "cell_type": "code",
   "execution_count": 9,
   "id": "5789b30a-7d59-4b8a-986f-0712f7b13066",
   "metadata": {},
   "outputs": [
    {
     "name": "stdout",
     "output_type": "stream",
     "text": [
      "Continuous Data = ['Age', 'Fare']\n",
      "\n"
     ]
    },
    {
     "data": {
      "image/png": "[encoded data removed]",
      "text/plain": [
       "<Figure size 500x300 with 1 Axes>"
      ]
     },
     "metadata": {},
     "output_type": "display_data"
    },
    {
     "data": {
      "image/png": "[encoded data removed]",
      "text/plain": [
       "<Figure size 500x300 with 1 Axes>"
      ]
     },
     "metadata": {},
     "output_type": "display_data"
    }
   ],
   "source": [
    "continuous = [features for features in df.columns if features in numerical and features not in discrete+['PassengerId']]\n",
    "print(f\"Continuous Data = {continuous}\\n\")\n",
    "\n",
    "for feature in continuous:\n",
    "    plt.figure(figsize=(5,3))\n",
    "    sns.histplot(x=df[feature], kde=True)\n",
    "    plt.title(f\"Distribution of {feature}\")\n",
    "    plt.show()"
   ]
  },
  {
   "cell_type": "code",
   "execution_count": 10,
   "id": "a421c4fc-48c1-4a9e-a66f-dc3d5482a124",
   "metadata": {},
   "outputs": [
    {
     "data": {
      "image/png": "[encoded data removed]",
      "text/plain": [
       "<Figure size 500x300 with 1 Axes>"
      ]
     },
     "metadata": {},
     "output_type": "display_data"
    },
    {
     "data": {
      "image/png": "[encoded data removed]",
      "text/plain": [
       "<Figure size 500x300 with 1 Axes>"
      ]
     },
     "metadata": {},
     "output_type": "display_data"
    }
   ],
   "source": [
    "for feature in continuous:\n",
    "    plt.figure(figsize=(5,3))\n",
    "    sns.boxplot(x=df[feature], hue=df['Survived'])\n",
    "    plt.title(f\"Relationship between {feature} and Survived\")\n",
    "    plt.show()"
   ]
  },
  {
   "cell_type": "markdown",
   "id": "8c8dd100-82de-4696-8bf7-cb7f4c098975",
   "metadata": {},
   "source": [
    "from the discreet and continuous numerical features;  \n",
    "For the discreet ['Survived', 'Pclass', 'SibSp', 'Parch'] i use the countplot to visualize each features:\n",
    "1. The passenger who died are more than those who survived\n",
    "2. Passengers in Pclass 3 are more than the Pclass 1, but I identify that more passengers survived in Pclass 1 than in Pclass 3. Meaning the Pclass 1 are given more attention during rescue.\n",
    "3. Survival rate decrease as the number of SibSp & Parch increase.\n",
    "\n",
    "For the continuous ['Age', 'Fare'] i check the distribution of this features using the histogram and boxplot:  \n",
    "- Most of the Passengers are between the Age 20 - 40, although there are some old passengers above 80. I see from the distribution that the number of passengers above 60 who survived are very small.\n",
    "- The survival rate of those who paid higher fare is more than those who paid lower fare.\n",
    "\n",
    "From the analysis I see that some passenger those in first class & those that paid higher fare got good care and attention during rescue while the regular & those that paid lower fare are given less attention and they receive little care."
   ]
  },
  {
   "cell_type": "markdown",
   "id": "d77399c7-e07d-454c-bd2e-a046ded3c235",
   "metadata": {},
   "source": [
    "**Categorical Data**"
   ]
  },
  {
   "cell_type": "code",
   "execution_count": 11,
   "id": "8cf16706-2e3b-40bd-a574-f6274f03341c",
   "metadata": {},
   "outputs": [
    {
     "name": "stdout",
     "output_type": "stream",
     "text": [
      "Categorical Data = ['Name', 'Sex', 'Ticket', 'Cabin', 'Embarked']\n",
      "\n",
      "Name has 891 unique values\n",
      "Sex has 2 unique values which are ['male' 'female']\n",
      "Ticket has 681 unique values\n",
      "Cabin has 147 unique values\n",
      "Embarked has 3 unique values which are ['S' 'C' 'Q' nan]\n"
     ]
    }
   ],
   "source": [
    "categorical = [feature for feature in df.columns if df[feature].dtypes == 'O']\n",
    "print(f\"Categorical Data = {categorical}\\n\")\n",
    "\n",
    "for feature in categorical:\n",
    "    if df[feature].nunique() > 5:\n",
    "        print(f\"{feature} has {df[feature].nunique()} unique values\")\n",
    "    else:\n",
    "        print(f\"{feature} has {df[feature].nunique()} unique values which are {df[feature].unique()}\")"
   ]
  },
  {
   "cell_type": "code",
   "execution_count": 12,
   "id": "97f39905-e82f-4cfd-81ff-93d53446dace",
   "metadata": {},
   "outputs": [
    {
     "data": {
      "text/html": [
       "<div>\n",
       "<style scoped>\n",
       "    .dataframe tbody tr th:only-of-type {\n",
       "        vertical-align: middle;\n",
       "    }\n",
       "\n",
       "    .dataframe tbody tr th {\n",
       "        vertical-align: top;\n",
       "    }\n",
       "\n",
       "    .dataframe thead th {\n",
       "        text-align: right;\n",
       "    }\n",
       "</style>\n",
       "<table border=\"1\" class=\"dataframe\">\n",
       "  <thead>\n",
       "    <tr style=\"text-align: right;\">\n",
       "      <th></th>\n",
       "      <th>Name</th>\n",
       "      <th>Sex</th>\n",
       "      <th>Ticket</th>\n",
       "      <th>Cabin</th>\n",
       "      <th>Embarked</th>\n",
       "    </tr>\n",
       "  </thead>\n",
       "  <tbody>\n",
       "    <tr>\n",
       "      <th>0</th>\n",
       "      <td>Braund, Mr. Owen Harris</td>\n",
       "      <td>male</td>\n",
       "      <td>A/5 21171</td>\n",
       "      <td>NaN</td>\n",
       "      <td>S</td>\n",
       "    </tr>\n",
       "    <tr>\n",
       "      <th>1</th>\n",
       "      <td>Cumings, Mrs. John Bradley (Florence Briggs Th...</td>\n",
       "      <td>female</td>\n",
       "      <td>PC 17599</td>\n",
       "      <td>C85</td>\n",
       "      <td>C</td>\n",
       "    </tr>\n",
       "    <tr>\n",
       "      <th>2</th>\n",
       "      <td>Heikkinen, Miss. Laina</td>\n",
       "      <td>female</td>\n",
       "      <td>STON/O2. 3101282</td>\n",
       "      <td>NaN</td>\n",
       "      <td>S</td>\n",
       "    </tr>\n",
       "    <tr>\n",
       "      <th>3</th>\n",
       "      <td>Futrelle, Mrs. Jacques Heath (Lily May Peel)</td>\n",
       "      <td>female</td>\n",
       "      <td>113803</td>\n",
       "      <td>C123</td>\n",
       "      <td>S</td>\n",
       "    </tr>\n",
       "    <tr>\n",
       "      <th>4</th>\n",
       "      <td>Allen, Mr. William Henry</td>\n",
       "      <td>male</td>\n",
       "      <td>373450</td>\n",
       "      <td>NaN</td>\n",
       "      <td>S</td>\n",
       "    </tr>\n",
       "  </tbody>\n",
       "</table>\n",
       "</div>"
      ],
      "text/plain": [
       "                                                Name     Sex  \\\n",
       "0                            Braund, Mr. Owen Harris    male   \n",
       "1  Cumings, Mrs. John Bradley (Florence Briggs Th...  female   \n",
       "2                             Heikkinen, Miss. Laina  female   \n",
       "3       Futrelle, Mrs. Jacques Heath (Lily May Peel)  female   \n",
       "4                           Allen, Mr. William Henry    male   \n",
       "\n",
       "             Ticket Cabin Embarked  \n",
       "0         A/5 21171   NaN        S  \n",
       "1          PC 17599   C85        C  \n",
       "2  STON/O2. 3101282   NaN        S  \n",
       "3            113803  C123        S  \n",
       "4            373450   NaN        S  "
      ]
     },
     "execution_count": 12,
     "metadata": {},
     "output_type": "execute_result"
    }
   ],
   "source": [
    "df[categorical].head()"
   ]
  },
  {
   "cell_type": "markdown",
   "id": "4f45747b-76e2-4137-be59-9f7d660c6ab7",
   "metadata": {},
   "source": [
    "Categorical Data are ['Name', 'Sex', 'Ticket', 'Cabin', 'Embarked'] and the 'Sex' and 'Embarked' features has few unique data 2 and 3 respectively. I will explore the distribution of this features using the countplot.\n"
   ]
  },
  {
   "cell_type": "code",
   "execution_count": 13,
   "id": "e4ba616b-5c6a-42cd-9613-9a56e10de8ec",
   "metadata": {},
   "outputs": [
    {
     "data": {
      "image/png": "[encoded data removed]",
      "text/plain": [
       "<Figure size 800x600 with 4 Axes>"
      ]
     },
     "metadata": {},
     "output_type": "display_data"
    }
   ],
   "source": [
    "fig, ax = plt.subplots(2,2, figsize=(8, 6))\n",
    "\n",
    "sns.countplot(x=df['Sex'], ax=ax[0,0])\n",
    "sns.countplot(x=df['Sex'], hue=df['Survived'], ax=ax[0,1])\n",
    "\n",
    "sns.countplot(x=df['Embarked'], ax=ax[1,0])\n",
    "sns.countplot(x=df['Embarked'], hue=df['Survived'], ax=ax[1,1])\n",
    "\n",
    "plt.suptitle(f\"Distribution of the Sex and Embarked and their relationship with the Survived column\")\n",
    "\n",
    "plt.tight_layout()\n",
    "plt.show()"
   ]
  },
  {
   "cell_type": "markdown",
   "id": "5d0a3f96-1b06-40c4-97ab-6cd015000faf",
   "metadata": {},
   "source": [
    "from the sex: there are more male passenger than the female however the survival rate for the female are higher than that of male.\n",
    "\n",
    "The embarked feature as well have 3 unique values ['S', 'C', 'Q'], a lot of passengers embarked at S, the survival rate for S is greater than C and C is greater than Q but for C those that survived are greater than those that did not."
   ]
  },
  {
   "cell_type": "code",
   "execution_count": 14,
   "id": "67c90c37-3cfc-425d-90ef-00fc4b7864f9",
   "metadata": {
    "scrolled": true
   },
   "outputs": [
    {
     "data": {
      "image/png": "[encoded data removed]",
      "text/plain": [
       "<Figure size 1200x300 with 3 Axes>"
      ]
     },
     "metadata": {},
     "output_type": "display_data"
    }
   ],
   "source": [
    "fig, ax = plt.subplots(1, 3, figsize=(12,3))\n",
    "\n",
    "sns.boxplot(x=df['Age'], hue=df['Survived'], ax=ax[0])\n",
    "sns.boxplot(x=df['Age'], hue=df['Pclass'], ax=ax[1])\n",
    "sns.boxplot(x=df['Age'], hue=df['Sex'], ax=ax[2])\n",
    "\n",
    "plt.suptitle(\"Distribution of the Age and it's Relationship with the {Survived, Pclass, Sex} columns\")\n",
    "\n",
    "fig.savefig(\"Age_distribution.png\")\n",
    "plt.show()"
   ]
  },
  {
   "cell_type": "markdown",
   "id": "f2dd0d75-500e-40d2-9eb7-b664ceafb2a8",
   "metadata": {},
   "source": [
    "**Interpretation of the Boxplots**  \n",
    "1. Plot 1 (Age vs Survived):\n",
    "- Both survivors (1) and non-survivors (0) have a similar median age (~28–30).\n",
    "- The spread is also similar, meaning survival did not strongly depend on age.\n",
    "- Outliers exist on both sides (older passengers).\n",
    "\n",
    "2. Plot 2 (Age vs Pclass):\n",
    "- 1st class passengers tend to be older on average (median ~38).\n",
    "- 2nd class median is lower (~29).\n",
    "- 3rd class passengers are youngest (median ~24).\n",
    "- 👉 Age is strongly correlated with Pclass.\n",
    "\n",
    "3. Plot 3 (Age vs Sex):\n",
    "- Males have a slightly higher median age (~29–30).\n",
    "- Females are younger overall (median ~27).\n",
    "- Distribution looks quite similar otherwise.\n",
    "\n",
    "**🧮 How to Fill Missing Age Values**  \n",
    "From the plots, you can see that Age is not missing at random — it depends on Pclass and Sex. So instead of filling with just the overall mean/median, a better strategy is: Fill with median age grouped by Pclass and Sex\n",
    ">>**df['Age'] = df['Age'].fillna(\n",
    "    df.groupby(['Pclass', 'Sex'])['Age'].transform('median')\n",
    ")**\n",
    "\n",
    "This ensures missing ages for 3rd-class females are filled with the median age of other 3rd-class females, etc. Much more realistic."
   ]
  },
  {
   "cell_type": "markdown",
   "id": "32ccac3b-6b19-4f5a-9b82-d8920469b84f",
   "metadata": {
    "jp-MarkdownHeadingCollapsed": true
   },
   "source": [
    "### EDA on Family"
   ]
  },
  {
   "cell_type": "markdown",
   "id": "a82285ce-48a9-46de-a440-12fd3187270b",
   "metadata": {},
   "source": [
    "**Creating a new data \"Family\" from the Ticket**  \n",
    "To explore the Survival rate of Family"
   ]
  },
  {
   "cell_type": "code",
   "execution_count": 15,
   "id": "cfa81e19-55ec-4ab2-b32b-de7e28588ac1",
   "metadata": {},
   "outputs": [
    {
     "data": {
      "text/html": [
       "<div>\n",
       "<style scoped>\n",
       "    .dataframe tbody tr th:only-of-type {\n",
       "        vertical-align: middle;\n",
       "    }\n",
       "\n",
       "    .dataframe tbody tr th {\n",
       "        vertical-align: top;\n",
       "    }\n",
       "\n",
       "    .dataframe thead th {\n",
       "        text-align: right;\n",
       "    }\n",
       "</style>\n",
       "<table border=\"1\" class=\"dataframe\">\n",
       "  <thead>\n",
       "    <tr style=\"text-align: right;\">\n",
       "      <th></th>\n",
       "      <th>PassengerId</th>\n",
       "      <th>Survived</th>\n",
       "      <th>Pclass</th>\n",
       "      <th>Name</th>\n",
       "      <th>Sex</th>\n",
       "      <th>Age</th>\n",
       "      <th>SibSp</th>\n",
       "      <th>Parch</th>\n",
       "      <th>Ticket</th>\n",
       "      <th>Fare</th>\n",
       "      <th>Cabin</th>\n",
       "      <th>Embarked</th>\n",
       "    </tr>\n",
       "  </thead>\n",
       "  <tbody>\n",
       "    <tr>\n",
       "      <th>783</th>\n",
       "      <td>784</td>\n",
       "      <td>0</td>\n",
       "      <td>3</td>\n",
       "      <td>Johnston, Mr. Andrew G</td>\n",
       "      <td>male</td>\n",
       "      <td>NaN</td>\n",
       "      <td>1</td>\n",
       "      <td>2</td>\n",
       "      <td>W./C. 6607</td>\n",
       "      <td>23.45</td>\n",
       "      <td>NaN</td>\n",
       "      <td>S</td>\n",
       "    </tr>\n",
       "    <tr>\n",
       "      <th>888</th>\n",
       "      <td>889</td>\n",
       "      <td>0</td>\n",
       "      <td>3</td>\n",
       "      <td>Johnston, Miss. Catherine Helen \"Carrie\"</td>\n",
       "      <td>female</td>\n",
       "      <td>NaN</td>\n",
       "      <td>1</td>\n",
       "      <td>2</td>\n",
       "      <td>W./C. 6607</td>\n",
       "      <td>23.45</td>\n",
       "      <td>NaN</td>\n",
       "      <td>S</td>\n",
       "    </tr>\n",
       "  </tbody>\n",
       "</table>\n",
       "</div>"
      ],
      "text/plain": [
       "     PassengerId  Survived  Pclass                                      Name  \\\n",
       "783          784         0       3                    Johnston, Mr. Andrew G   \n",
       "888          889         0       3  Johnston, Miss. Catherine Helen \"Carrie\"   \n",
       "\n",
       "        Sex  Age  SibSp  Parch      Ticket   Fare Cabin Embarked  \n",
       "783    male  NaN      1      2  W./C. 6607  23.45   NaN        S  \n",
       "888  female  NaN      1      2  W./C. 6607  23.45   NaN        S  "
      ]
     },
     "execution_count": 15,
     "metadata": {},
     "output_type": "execute_result"
    }
   ],
   "source": [
    "# df[df['Ticket'].duplicated()]\n",
    "df[df['Ticket']=='W./C. 6607']"
   ]
  },
  {
   "cell_type": "code",
   "execution_count": 16,
   "id": "7eb91ce9-f1f8-49fa-b0d6-d359f5d6c7e6",
   "metadata": {},
   "outputs": [],
   "source": [
    "def analyze_titanic_duplicates(df):\n",
    "    result = {'ticket': [], 'name': [], 'count': [], 'survived': []}\n",
    "\n",
    "    # Find duplicate tickets\n",
    "    duplicate_tickets = df[df.duplicated('Ticket', keep=False)]\n",
    "\n",
    "    # Group by ticket\n",
    "    grouped = duplicate_tickets.groupby('Ticket')\n",
    "\n",
    "    for ticket, group in grouped:\n",
    "        # Get first name from the first entry\n",
    "        surname = group['Name'].iloc[0].split(',')[0].strip()\n",
    "        \n",
    "        # Count duplicates for this ticket\n",
    "        count = len(group)\n",
    "        \n",
    "        # Count how many survived for this ticket\n",
    "        survived_count = group['Survived'].sum()\n",
    "\n",
    "        # Append to dictionary\n",
    "        result['ticket'].append(ticket)\n",
    "        result['name'].append(surname)\n",
    "        result['count'].append(count)\n",
    "        result['survived'].append(survived_count)\n",
    "    \n",
    "    return result\n"
   ]
  },
  {
   "cell_type": "code",
   "execution_count": 17,
   "id": "efe3150d-7da8-436d-8759-396025ae09b2",
   "metadata": {},
   "outputs": [
    {
     "data": {
      "text/html": [
       "<div>\n",
       "<style scoped>\n",
       "    .dataframe tbody tr th:only-of-type {\n",
       "        vertical-align: middle;\n",
       "    }\n",
       "\n",
       "    .dataframe tbody tr th {\n",
       "        vertical-align: top;\n",
       "    }\n",
       "\n",
       "    .dataframe thead th {\n",
       "        text-align: right;\n",
       "    }\n",
       "</style>\n",
       "<table border=\"1\" class=\"dataframe\">\n",
       "  <thead>\n",
       "    <tr style=\"text-align: right;\">\n",
       "      <th></th>\n",
       "      <th>ticket</th>\n",
       "      <th>name</th>\n",
       "      <th>count</th>\n",
       "      <th>survived</th>\n",
       "    </tr>\n",
       "  </thead>\n",
       "  <tbody>\n",
       "    <tr>\n",
       "      <th>0</th>\n",
       "      <td>110152</td>\n",
       "      <td>Cherry</td>\n",
       "      <td>3</td>\n",
       "      <td>3</td>\n",
       "    </tr>\n",
       "    <tr>\n",
       "      <th>1</th>\n",
       "      <td>110413</td>\n",
       "      <td>Taussig</td>\n",
       "      <td>3</td>\n",
       "      <td>2</td>\n",
       "    </tr>\n",
       "    <tr>\n",
       "      <th>2</th>\n",
       "      <td>110465</td>\n",
       "      <td>Porter</td>\n",
       "      <td>2</td>\n",
       "      <td>0</td>\n",
       "    </tr>\n",
       "    <tr>\n",
       "      <th>3</th>\n",
       "      <td>111361</td>\n",
       "      <td>Hippach</td>\n",
       "      <td>2</td>\n",
       "      <td>2</td>\n",
       "    </tr>\n",
       "    <tr>\n",
       "      <th>4</th>\n",
       "      <td>113505</td>\n",
       "      <td>Chibnall</td>\n",
       "      <td>2</td>\n",
       "      <td>2</td>\n",
       "    </tr>\n",
       "    <tr>\n",
       "      <th>...</th>\n",
       "      <td>...</td>\n",
       "      <td>...</td>\n",
       "      <td>...</td>\n",
       "      <td>...</td>\n",
       "    </tr>\n",
       "    <tr>\n",
       "      <th>129</th>\n",
       "      <td>SC/Paris 2123</td>\n",
       "      <td>Laroche</td>\n",
       "      <td>3</td>\n",
       "      <td>2</td>\n",
       "    </tr>\n",
       "    <tr>\n",
       "      <th>130</th>\n",
       "      <td>STON/O2. 3101279</td>\n",
       "      <td>Hakkarainen</td>\n",
       "      <td>2</td>\n",
       "      <td>1</td>\n",
       "    </tr>\n",
       "    <tr>\n",
       "      <th>131</th>\n",
       "      <td>W./C. 6607</td>\n",
       "      <td>Johnston</td>\n",
       "      <td>2</td>\n",
       "      <td>0</td>\n",
       "    </tr>\n",
       "    <tr>\n",
       "      <th>132</th>\n",
       "      <td>W./C. 6608</td>\n",
       "      <td>Ford</td>\n",
       "      <td>4</td>\n",
       "      <td>0</td>\n",
       "    </tr>\n",
       "    <tr>\n",
       "      <th>133</th>\n",
       "      <td>WE/P 5735</td>\n",
       "      <td>Crosby</td>\n",
       "      <td>2</td>\n",
       "      <td>1</td>\n",
       "    </tr>\n",
       "  </tbody>\n",
       "</table>\n",
       "<p>134 rows × 4 columns</p>\n",
       "</div>"
      ],
      "text/plain": [
       "               ticket         name  count  survived\n",
       "0              110152       Cherry      3         3\n",
       "1              110413      Taussig      3         2\n",
       "2              110465       Porter      2         0\n",
       "3              111361      Hippach      2         2\n",
       "4              113505     Chibnall      2         2\n",
       "..                ...          ...    ...       ...\n",
       "129     SC/Paris 2123      Laroche      3         2\n",
       "130  STON/O2. 3101279  Hakkarainen      2         1\n",
       "131        W./C. 6607     Johnston      2         0\n",
       "132        W./C. 6608         Ford      4         0\n",
       "133         WE/P 5735       Crosby      2         1\n",
       "\n",
       "[134 rows x 4 columns]"
      ]
     },
     "execution_count": 17,
     "metadata": {},
     "output_type": "execute_result"
    }
   ],
   "source": [
    "pd.DataFrame(analyze_titanic_duplicates(df))"
   ]
  },
  {
   "cell_type": "code",
   "execution_count": 18,
   "id": "a7129e49-80bc-4bd0-8c73-50c0c505f978",
   "metadata": {},
   "outputs": [
    {
     "data": {
      "text/html": [
       "<div>\n",
       "<style scoped>\n",
       "    .dataframe tbody tr th:only-of-type {\n",
       "        vertical-align: middle;\n",
       "    }\n",
       "\n",
       "    .dataframe tbody tr th {\n",
       "        vertical-align: top;\n",
       "    }\n",
       "\n",
       "    .dataframe thead th {\n",
       "        text-align: right;\n",
       "    }\n",
       "</style>\n",
       "<table border=\"1\" class=\"dataframe\">\n",
       "  <thead>\n",
       "    <tr style=\"text-align: right;\">\n",
       "      <th></th>\n",
       "      <th>PassengerId</th>\n",
       "      <th>Survived</th>\n",
       "      <th>Pclass</th>\n",
       "      <th>Name</th>\n",
       "      <th>Sex</th>\n",
       "      <th>Age</th>\n",
       "      <th>SibSp</th>\n",
       "      <th>Parch</th>\n",
       "      <th>Ticket</th>\n",
       "      <th>Fare</th>\n",
       "      <th>Cabin</th>\n",
       "      <th>Embarked</th>\n",
       "    </tr>\n",
       "  </thead>\n",
       "  <tbody>\n",
       "    <tr>\n",
       "      <th>257</th>\n",
       "      <td>258</td>\n",
       "      <td>1</td>\n",
       "      <td>1</td>\n",
       "      <td>Cherry, Miss. Gladys</td>\n",
       "      <td>female</td>\n",
       "      <td>30.0</td>\n",
       "      <td>0</td>\n",
       "      <td>0</td>\n",
       "      <td>110152</td>\n",
       "      <td>86.5</td>\n",
       "      <td>B77</td>\n",
       "      <td>S</td>\n",
       "    </tr>\n",
       "    <tr>\n",
       "      <th>504</th>\n",
       "      <td>505</td>\n",
       "      <td>1</td>\n",
       "      <td>1</td>\n",
       "      <td>Maioni, Miss. Roberta</td>\n",
       "      <td>female</td>\n",
       "      <td>16.0</td>\n",
       "      <td>0</td>\n",
       "      <td>0</td>\n",
       "      <td>110152</td>\n",
       "      <td>86.5</td>\n",
       "      <td>B79</td>\n",
       "      <td>S</td>\n",
       "    </tr>\n",
       "    <tr>\n",
       "      <th>759</th>\n",
       "      <td>760</td>\n",
       "      <td>1</td>\n",
       "      <td>1</td>\n",
       "      <td>Rothes, the Countess. of (Lucy Noel Martha Dye...</td>\n",
       "      <td>female</td>\n",
       "      <td>33.0</td>\n",
       "      <td>0</td>\n",
       "      <td>0</td>\n",
       "      <td>110152</td>\n",
       "      <td>86.5</td>\n",
       "      <td>B77</td>\n",
       "      <td>S</td>\n",
       "    </tr>\n",
       "  </tbody>\n",
       "</table>\n",
       "</div>"
      ],
      "text/plain": [
       "     PassengerId  Survived  Pclass  \\\n",
       "257          258         1       1   \n",
       "504          505         1       1   \n",
       "759          760         1       1   \n",
       "\n",
       "                                                  Name     Sex   Age  SibSp  \\\n",
       "257                               Cherry, Miss. Gladys  female  30.0      0   \n",
       "504                              Maioni, Miss. Roberta  female  16.0      0   \n",
       "759  Rothes, the Countess. of (Lucy Noel Martha Dye...  female  33.0      0   \n",
       "\n",
       "     Parch  Ticket  Fare Cabin Embarked  \n",
       "257      0  110152  86.5   B77        S  \n",
       "504      0  110152  86.5   B79        S  \n",
       "759      0  110152  86.5   B77        S  "
      ]
     },
     "execution_count": 18,
     "metadata": {},
     "output_type": "execute_result"
    }
   ],
   "source": [
    "df[df['Ticket']=='110152']"
   ]
  },
  {
   "cell_type": "code",
   "execution_count": 19,
   "id": "bec6e098-11bb-4733-9dab-c479eada37f8",
   "metadata": {},
   "outputs": [],
   "source": [
    "def analyze_titanic(data):\n",
    "    result = {\n",
    "        'ticket': [],\n",
    "        'family_name': [],\n",
    "        'count': [],\n",
    "        '#survived': [],\n",
    "        'pclass': [],\n",
    "        'embarked': [],\n",
    "        'female_count': [],\n",
    "        'male_count': [],\n",
    "        'female_survived_count': [],\n",
    "        'male_survived_count': [],\n",
    "        'cabin_status': []\n",
    "    }\n",
    "    \n",
    "    # # Find duplicate tickets\n",
    "    # duplicate_tickets = data[data.duplicated('Ticket', keep=False)]\n",
    "\n",
    "    # # Group by ticket\n",
    "    # grouped = duplicate_tickets.groupby('Ticket')\n",
    "\n",
    "    # Find duplicate tickets (appearing more than once)\n",
    "    duplicate_tickets = df['Ticket'].value_counts()\n",
    "    duplicate_tickets = duplicate_tickets[duplicate_tickets > 1].index\n",
    "\n",
    "    # Work only on rows with duplicate tickets\n",
    "    dup_df = df[df['Ticket'].isin(duplicate_tickets)]\n",
    "\n",
    "    # Group by Ticket\n",
    "    grouped = dup_df.groupby(\"Ticket\")\n",
    "    \n",
    "    for ticket, group in grouped:\n",
    "        result['ticket'].append(ticket)\n",
    "        \n",
    "        # First name from the first row\n",
    "        surname = group.iloc[0]['Name'].split(\",\")[0].strip()\n",
    "        result['family_name'].append(surname)\n",
    "        \n",
    "        # Count of duplicates (group size)\n",
    "        result['count'].append(len(group))\n",
    "        \n",
    "        # Survivors in this ticket group\n",
    "        result['#survived'].append(group['Survived'].sum())\n",
    "        \n",
    "        # Pclass (take the first one, assuming group has same class)\n",
    "        result['pclass'].append(group.iloc[0]['Pclass'])\n",
    "        \n",
    "        # Embarked (first value, but could check mode)\n",
    "        result['embarked'].append(group.iloc[0]['Embarked']) #group['Embarked'].mode()[0]\n",
    "        \n",
    "        # Gender counts\n",
    "        female_count = sum(group['Sex'] == 'female')\n",
    "        male_count = sum(group['Sex'] == 'male')\n",
    "        female_survived = sum((group['Sex'] == 'female') & (group['Survived'] == 1))\n",
    "        male_survived = sum((group['Sex'] == 'male') & (group['Survived'] == 1))\n",
    "        \n",
    "        result['female_count'].append(female_count)\n",
    "        result['male_count'].append(male_count)\n",
    "        result['female_survived_count'].append(female_survived)\n",
    "        result['male_survived_count'].append(male_survived)\n",
    "        \n",
    "        # Cabin info (Known/Unknown)\n",
    "        if pd.isna(group.iloc[0]['Cabin']):\n",
    "            result['cabin_status'].append(\"Unknown\")\n",
    "        else:\n",
    "            result['cabin_status'].append(\"Known\")\n",
    "        # \"Unknown\" if group[\"Cabin\"].isna().all() else \"Known\"\n",
    "    \n",
    "    return pd.DataFrame(result)\n"
   ]
  },
  {
   "cell_type": "code",
   "execution_count": 20,
   "id": "1a5c54d3-261b-4126-9ebb-bf14ca70cb77",
   "metadata": {},
   "outputs": [
    {
     "data": {
      "text/html": [
       "<div>\n",
       "<style scoped>\n",
       "    .dataframe tbody tr th:only-of-type {\n",
       "        vertical-align: middle;\n",
       "    }\n",
       "\n",
       "    .dataframe tbody tr th {\n",
       "        vertical-align: top;\n",
       "    }\n",
       "\n",
       "    .dataframe thead th {\n",
       "        text-align: right;\n",
       "    }\n",
       "</style>\n",
       "<table border=\"1\" class=\"dataframe\">\n",
       "  <thead>\n",
       "    <tr style=\"text-align: right;\">\n",
       "      <th></th>\n",
       "      <th>ticket</th>\n",
       "      <th>family_name</th>\n",
       "      <th>count</th>\n",
       "      <th>#survived</th>\n",
       "      <th>pclass</th>\n",
       "      <th>embarked</th>\n",
       "      <th>female_count</th>\n",
       "      <th>male_count</th>\n",
       "      <th>female_survived_count</th>\n",
       "      <th>male_survived_count</th>\n",
       "      <th>cabin_status</th>\n",
       "    </tr>\n",
       "  </thead>\n",
       "  <tbody>\n",
       "    <tr>\n",
       "      <th>0</th>\n",
       "      <td>110152</td>\n",
       "      <td>Cherry</td>\n",
       "      <td>3</td>\n",
       "      <td>3</td>\n",
       "      <td>1</td>\n",
       "      <td>S</td>\n",
       "      <td>3</td>\n",
       "      <td>0</td>\n",
       "      <td>3</td>\n",
       "      <td>0</td>\n",
       "      <td>Known</td>\n",
       "    </tr>\n",
       "    <tr>\n",
       "      <th>1</th>\n",
       "      <td>110413</td>\n",
       "      <td>Taussig</td>\n",
       "      <td>3</td>\n",
       "      <td>2</td>\n",
       "      <td>1</td>\n",
       "      <td>S</td>\n",
       "      <td>2</td>\n",
       "      <td>1</td>\n",
       "      <td>2</td>\n",
       "      <td>0</td>\n",
       "      <td>Known</td>\n",
       "    </tr>\n",
       "    <tr>\n",
       "      <th>2</th>\n",
       "      <td>110465</td>\n",
       "      <td>Porter</td>\n",
       "      <td>2</td>\n",
       "      <td>0</td>\n",
       "      <td>1</td>\n",
       "      <td>S</td>\n",
       "      <td>0</td>\n",
       "      <td>2</td>\n",
       "      <td>0</td>\n",
       "      <td>0</td>\n",
       "      <td>Known</td>\n",
       "    </tr>\n",
       "    <tr>\n",
       "      <th>3</th>\n",
       "      <td>111361</td>\n",
       "      <td>Hippach</td>\n",
       "      <td>2</td>\n",
       "      <td>2</td>\n",
       "      <td>1</td>\n",
       "      <td>C</td>\n",
       "      <td>2</td>\n",
       "      <td>0</td>\n",
       "      <td>2</td>\n",
       "      <td>0</td>\n",
       "      <td>Known</td>\n",
       "    </tr>\n",
       "    <tr>\n",
       "      <th>4</th>\n",
       "      <td>113505</td>\n",
       "      <td>Chibnall</td>\n",
       "      <td>2</td>\n",
       "      <td>2</td>\n",
       "      <td>1</td>\n",
       "      <td>S</td>\n",
       "      <td>2</td>\n",
       "      <td>0</td>\n",
       "      <td>2</td>\n",
       "      <td>0</td>\n",
       "      <td>Known</td>\n",
       "    </tr>\n",
       "  </tbody>\n",
       "</table>\n",
       "</div>"
      ],
      "text/plain": [
       "   ticket family_name  count  #survived  pclass embarked  female_count  \\\n",
       "0  110152      Cherry      3          3       1        S             3   \n",
       "1  110413     Taussig      3          2       1        S             2   \n",
       "2  110465      Porter      2          0       1        S             0   \n",
       "3  111361     Hippach      2          2       1        C             2   \n",
       "4  113505    Chibnall      2          2       1        S             2   \n",
       "\n",
       "   male_count  female_survived_count  male_survived_count cabin_status  \n",
       "0           0                      3                    0        Known  \n",
       "1           1                      2                    0        Known  \n",
       "2           2                      0                    0        Known  \n",
       "3           0                      2                    0        Known  \n",
       "4           0                      2                    0        Known  "
      ]
     },
     "execution_count": 20,
     "metadata": {},
     "output_type": "execute_result"
    }
   ],
   "source": [
    "family = analyze_titanic(df)\n",
    "family.head()"
   ]
  },
  {
   "cell_type": "code",
   "execution_count": 21,
   "id": "f548f97d-236d-4222-94b7-b72837d17d1b",
   "metadata": {},
   "outputs": [
    {
     "name": "stdout",
     "output_type": "stream",
     "text": [
      "ticket has 134 unique values\n",
      "family_name has 133 unique values\n",
      "count has 6 unique values\n",
      "#survived has 6 unique values\n",
      "pclass has 3 unique values\n",
      "embarked has 3 unique values\n",
      "female_count has 6 unique values\n",
      "male_count has 7 unique values\n",
      "female_survived_count has 5 unique values\n",
      "male_survived_count has 4 unique values\n",
      "cabin_status has 2 unique values\n"
     ]
    }
   ],
   "source": [
    "for column in family.columns:\n",
    "    print(f\"{column} has {family[column].nunique()} unique values\")"
   ]
  },
  {
   "cell_type": "code",
   "execution_count": 22,
   "id": "574269e3-24b2-4df4-bb05-8b6c9125ea8d",
   "metadata": {},
   "outputs": [
    {
     "data": {
      "text/plain": [
       "(210, 12)"
      ]
     },
     "execution_count": 22,
     "metadata": {},
     "output_type": "execute_result"
    }
   ],
   "source": [
    "df[df['Ticket'].duplicated()].shape"
   ]
  },
  {
   "cell_type": "code",
   "execution_count": 23,
   "id": "1a035edb-ee48-4dbf-9538-5c9d53bb1cd9",
   "metadata": {},
   "outputs": [
    {
     "data": {
      "text/plain": [
       "ticket                   0\n",
       "family_name              0\n",
       "count                    0\n",
       "#survived                0\n",
       "pclass                   0\n",
       "embarked                 1\n",
       "female_count             0\n",
       "male_count               0\n",
       "female_survived_count    0\n",
       "male_survived_count      0\n",
       "cabin_status             0\n",
       "dtype: int64"
      ]
     },
     "execution_count": 23,
     "metadata": {},
     "output_type": "execute_result"
    }
   ],
   "source": [
    "family.isnull().sum()"
   ]
  },
  {
   "cell_type": "code",
   "execution_count": 24,
   "id": "9f59278d-d78c-4bef-9f01-f7eb7b16718d",
   "metadata": {},
   "outputs": [],
   "source": [
    "family['survived'] = family['#survived'].apply(lambda x: 0 if x == 0 else 1)"
   ]
  },
  {
   "cell_type": "code",
   "execution_count": 25,
   "id": "0647a8c1-9122-4b2c-bd77-9d0ad812f9c5",
   "metadata": {},
   "outputs": [
    {
     "data": {
      "text/html": [
       "<div>\n",
       "<style scoped>\n",
       "    .dataframe tbody tr th:only-of-type {\n",
       "        vertical-align: middle;\n",
       "    }\n",
       "\n",
       "    .dataframe tbody tr th {\n",
       "        vertical-align: top;\n",
       "    }\n",
       "\n",
       "    .dataframe thead th {\n",
       "        text-align: right;\n",
       "    }\n",
       "</style>\n",
       "<table border=\"1\" class=\"dataframe\">\n",
       "  <thead>\n",
       "    <tr style=\"text-align: right;\">\n",
       "      <th></th>\n",
       "      <th>ticket</th>\n",
       "      <th>family_name</th>\n",
       "      <th>count</th>\n",
       "      <th>#survived</th>\n",
       "      <th>pclass</th>\n",
       "      <th>embarked</th>\n",
       "      <th>female_count</th>\n",
       "      <th>male_count</th>\n",
       "      <th>female_survived_count</th>\n",
       "      <th>male_survived_count</th>\n",
       "      <th>cabin_status</th>\n",
       "      <th>survived</th>\n",
       "    </tr>\n",
       "  </thead>\n",
       "  <tbody>\n",
       "    <tr>\n",
       "      <th>0</th>\n",
       "      <td>110152</td>\n",
       "      <td>Cherry</td>\n",
       "      <td>3</td>\n",
       "      <td>3</td>\n",
       "      <td>1</td>\n",
       "      <td>S</td>\n",
       "      <td>3</td>\n",
       "      <td>0</td>\n",
       "      <td>3</td>\n",
       "      <td>0</td>\n",
       "      <td>Known</td>\n",
       "      <td>1</td>\n",
       "    </tr>\n",
       "    <tr>\n",
       "      <th>1</th>\n",
       "      <td>110413</td>\n",
       "      <td>Taussig</td>\n",
       "      <td>3</td>\n",
       "      <td>2</td>\n",
       "      <td>1</td>\n",
       "      <td>S</td>\n",
       "      <td>2</td>\n",
       "      <td>1</td>\n",
       "      <td>2</td>\n",
       "      <td>0</td>\n",
       "      <td>Known</td>\n",
       "      <td>1</td>\n",
       "    </tr>\n",
       "    <tr>\n",
       "      <th>2</th>\n",
       "      <td>110465</td>\n",
       "      <td>Porter</td>\n",
       "      <td>2</td>\n",
       "      <td>0</td>\n",
       "      <td>1</td>\n",
       "      <td>S</td>\n",
       "      <td>0</td>\n",
       "      <td>2</td>\n",
       "      <td>0</td>\n",
       "      <td>0</td>\n",
       "      <td>Known</td>\n",
       "      <td>0</td>\n",
       "    </tr>\n",
       "    <tr>\n",
       "      <th>3</th>\n",
       "      <td>111361</td>\n",
       "      <td>Hippach</td>\n",
       "      <td>2</td>\n",
       "      <td>2</td>\n",
       "      <td>1</td>\n",
       "      <td>C</td>\n",
       "      <td>2</td>\n",
       "      <td>0</td>\n",
       "      <td>2</td>\n",
       "      <td>0</td>\n",
       "      <td>Known</td>\n",
       "      <td>1</td>\n",
       "    </tr>\n",
       "    <tr>\n",
       "      <th>4</th>\n",
       "      <td>113505</td>\n",
       "      <td>Chibnall</td>\n",
       "      <td>2</td>\n",
       "      <td>2</td>\n",
       "      <td>1</td>\n",
       "      <td>S</td>\n",
       "      <td>2</td>\n",
       "      <td>0</td>\n",
       "      <td>2</td>\n",
       "      <td>0</td>\n",
       "      <td>Known</td>\n",
       "      <td>1</td>\n",
       "    </tr>\n",
       "  </tbody>\n",
       "</table>\n",
       "</div>"
      ],
      "text/plain": [
       "   ticket family_name  count  #survived  pclass embarked  female_count  \\\n",
       "0  110152      Cherry      3          3       1        S             3   \n",
       "1  110413     Taussig      3          2       1        S             2   \n",
       "2  110465      Porter      2          0       1        S             0   \n",
       "3  111361     Hippach      2          2       1        C             2   \n",
       "4  113505    Chibnall      2          2       1        S             2   \n",
       "\n",
       "   male_count  female_survived_count  male_survived_count cabin_status  \\\n",
       "0           0                      3                    0        Known   \n",
       "1           1                      2                    0        Known   \n",
       "2           2                      0                    0        Known   \n",
       "3           0                      2                    0        Known   \n",
       "4           0                      2                    0        Known   \n",
       "\n",
       "   survived  \n",
       "0         1  \n",
       "1         1  \n",
       "2         0  \n",
       "3         1  \n",
       "4         1  "
      ]
     },
     "execution_count": 25,
     "metadata": {},
     "output_type": "execute_result"
    }
   ],
   "source": [
    "family.head()"
   ]
  },
  {
   "cell_type": "code",
   "execution_count": 26,
   "id": "c1204a78-d7ef-48c7-b417-6af9b2d0c858",
   "metadata": {},
   "outputs": [
    {
     "data": {
      "image/png": "[encoded data removed]",
      "text/plain": [
       "<Figure size 640x480 with 1 Axes>"
      ]
     },
     "metadata": {},
     "output_type": "display_data"
    }
   ],
   "source": [
    "sns.countplot(x=family['survived'])\n",
    "plt.show()"
   ]
  },
  {
   "cell_type": "code",
   "execution_count": 27,
   "id": "defc3acd-5d1f-43bd-b774-66b39dd6de45",
   "metadata": {},
   "outputs": [],
   "source": [
    "family.to_csv(r'C:\\Users\\KOLADE\\OneDrive\\Documents\\Practices\\Titanic\\data\\family.csv', index=False)"
   ]
  },
  {
   "cell_type": "code",
   "execution_count": 28,
   "id": "355a6205-9107-4cbd-9fae-7f0c50717cd9",
   "metadata": {},
   "outputs": [
    {
     "data": {
      "image/png": "[encoded data removed]",
      "text/plain": [
       "<Figure size 800x400 with 2 Axes>"
      ]
     },
     "metadata": {},
     "output_type": "display_data"
    }
   ],
   "source": [
    "fig, ax = plt.subplots(1, 2, figsize=(8,4))\n",
    "\n",
    "sns.countplot(x=family['male_survived_count'], ax=ax[0])\n",
    "sns.countplot(x=family['female_survived_count'], ax=ax[1])\n",
    "\n",
    "plt.show()"
   ]
  },
  {
   "cell_type": "code",
   "execution_count": 29,
   "id": "b89929c3-ac25-49ee-bb44-ba1023b5bffd",
   "metadata": {},
   "outputs": [],
   "source": [
    "# df[\"Cabin\"].apply(lambda x: \"Unknown\" if group[\"Cabin\"].isna().all() else \"Known\")"
   ]
  },
  {
   "cell_type": "markdown",
   "id": "5b13ad90-17a1-4175-b5aa-dfcceaf758e8",
   "metadata": {},
   "source": [
    "### Conclusion"
   ]
  },
  {
   "cell_type": "markdown",
   "id": "4d2c111c-c9fc-4aa7-a601-4cf7e5452428",
   "metadata": {},
   "source": [
    "**Conclusion:**  \n",
    "After Analysis;\n",
    "1. There is no duplicate data\n",
    "2. ['Age', 'Cabin', 'Embarked'] columns has missing value of [20%, 77%, 3%] respectively. To fill them - the Age column will be filled using the median Age grouped by Pclass and Sex because of the correletion found between them. The Cabin column has lots of missing datas so i will replace this with a new column as Cabin Status \"Known\" and \"Unknown\". The Embarked column will be filled using the mode there are only few data missing.\n",
    "3. All continuous ['Age', 'Fare'] columns will be normalized, the discrete ['Pclass', 'SibSp', 'Parch'] columns will be used the way they are. The ['PassengerID'] will be dropped. The ['Survived'] is the dependent feature.\n",
    "4. The categorical columns such as ['Sex', 'Cabin Status', 'Embarked'] will be encoded. A new column 'Title' will be gotten from the ['Name'] column before we drop it and encode the ['Title'] column. The ['Ticket'] column will be use to form a new data 'family' for descriptive analysis to see if passenger with lot of family survived by sticking together or not which i will then use to extract a new columns ['Family_count', 'Alone(if a passenger is alone or not)'] then we drop it before we proceed with the prediction. \n",
    "5. No Outliers will be removed in this data set."
   ]
  },
  {
   "cell_type": "code",
   "execution_count": null,
   "id": "0b134275-f1ea-4d3f-a64c-b0e47f3e56a5",
   "metadata": {},
   "outputs": [],
   "source": []
  }
 ],
 "metadata": {
  "kernelspec": {
   "display_name": "Python [conda env:base] *",
   "language": "python",
   "name": "conda-base-py"
  },
  "language_info": {
   "codemirror_mode": {
    "name": "ipython",
    "version": 3
   },
   "file_extension": ".py",
   "mimetype": "text/x-python",
   "name": "python",
   "nbconvert_exporter": "python",
   "pygments_lexer": "ipython3",
   "version": "3.13.5"
  }
 },
 "nbformat": 4,
 "nbformat_minor": 5
}
